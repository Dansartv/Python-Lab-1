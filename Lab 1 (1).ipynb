{
 "cells": [
  {
   "cell_type": "markdown",
   "metadata": {},
   "source": [
    "# Welcome to Python!\n",
    "Python is a full-featured programming language, but is often billed as being easier to learn than Java-like languages. You can use it with a traditional IDE that has an editor, compiler, and window to view results. However, Python is also frequently used in an environment like this one, called a **Notebook**.\n",
    "\n",
    "Each box you see here is called a **cell**. A cell can contain just text (you are reading a text cell now) or Python code. Python can be used interactively; that is, you don't need to write a whole program, compile it, and execute it. Instead, you can write little snippets of Python code and run each one interactively. You can see the results right away rather than switching back and forth between and editor and output window.\n",
    "\n",
    "Let's get started with some simple Python arithmetic.\n",
    "\n",
    "\n",
    "# Numbers\n",
    "Python supports the usual integers and floating-point numbers. However, integers can be of arbitrary size. Python happily works with integers much, much larger than other languages like Java or C natively support. It also comes with built-in support for converted to and from a variety of number bases that are useful to programmers, helping to make Python a very attrative alternative to the more traditional languages.\n",
    "\n",
    "Python supports the usual arithmetic operators, plus some new ones that you will find useful:\n",
    "\n",
    "| Operator | Meaning |\n",
    "|---|---|\n",
    "| \\*, +, -, / | Multiply, add, subtract, divide |\n",
    "| // | Integer division |\n",
    "| % | Modulo (remainder) |\n",
    "| \\*\\* | Exponent |\n",
    "\n",
    "### Try it!\n",
    "\n",
    "Try the calculations below. Click in each cell and press Shift-Enter to run them. Try changing the values and re-running them to see the results."
   ]
  },
  {
   "cell_type": "code",
   "execution_count": 33,
   "metadata": {},
   "outputs": [
    {
     "data": {
      "text/plain": [
       "25"
      ]
     },
     "execution_count": 33,
     "metadata": {},
     "output_type": "execute_result"
    }
   ],
   "source": [
    "2+3+4*5"
   ]
  },
  {
   "cell_type": "code",
   "execution_count": 32,
   "metadata": {},
   "outputs": [
    {
     "data": {
      "text/plain": [
       "99250068772098856700831462057469632637295940819886900519816298881382867104749399077921128661426144638055424236936271872492800352741649902118143819672601569998100120790496759517636465445895625741609866209900500198407153244604778968016963028050310261417615914468729918240685487878617645976939063464357986165711730976399478507649228686341466967167910126653342134942744851463899927487092486610977146112763567101672645953132196481439339873017088140414661271198500333255713096142335151414630651683065518784081203678487703002802082091236603519026256880624499681781387227574035484831271515683123742149095569260463609655977700938844580611931246495166208695540313698140011638027322566252689780838136351828795314272162111222231170901715612355701347552371530013693855379834865667060014643302459100429783653966913783002290784283455628283355470529932956051484477129333881159930212758687602795088579230431661696010232187390436601614145603241902386663442520160735566561"
      ]
     },
     "execution_count": 32,
     "metadata": {},
     "output_type": "execute_result"
    }
   ],
   "source": [
    "123 ** 456"
   ]
  },
  {
   "cell_type": "code",
   "execution_count": 31,
   "metadata": {},
   "outputs": [
    {
     "data": {
      "text/plain": [
       "4"
      ]
     },
     "execution_count": 31,
     "metadata": {},
     "output_type": "execute_result"
    }
   ],
   "source": [
    "92 ** 5 % 19"
   ]
  },
  {
   "cell_type": "markdown",
   "metadata": {},
   "source": [
    "You can also insert new cells. Just click in a cell and then press the \\[+\\] button in the toolbar. Use the empty cell below to perform a calculation using integer division. Then add a new cell below it to do a calculation using a variety of operators."
   ]
  },
  {
   "cell_type": "code",
   "execution_count": 24,
   "metadata": {},
   "outputs": [
    {
     "data": {
      "text/plain": [
       "0.6666666666666666"
      ]
     },
     "execution_count": 24,
     "metadata": {},
     "output_type": "execute_result"
    }
   ],
   "source": [
    "2 / 3"
   ]
  },
  {
   "cell_type": "code",
   "execution_count": 25,
   "metadata": {},
   "outputs": [
    {
     "data": {
      "text/plain": [
       "10"
      ]
     },
     "execution_count": 25,
     "metadata": {},
     "output_type": "execute_result"
    }
   ],
   "source": [
    "2 * 5"
   ]
  },
  {
   "cell_type": "markdown",
   "metadata": {},
   "source": [
    "# Entering Numbers in Other Bases\n",
    "Python allows you to enter interger numbers using binary (base 2), octal (base 8), decimal (base 10), and hexadecimal (base 16). Decimal numbers are entered the usual way. For the other bases, special prefixes are used to indicate the base.\n",
    "\n",
    "| Base | Prefix | Example |\n",
    "|------|--------|---------|\n",
    "| Binary | 0b | 0b1001101 |\n",
    "| Octal | 0o | 0o7234 |\n",
    "| Hexadecimal | 0x | 0x45a8e |\n",
    "\n",
    "Python displays in decimal by default. When you try the following examples, you'll enter the numbers using the indicated base but the value will be shown in base 10.\n",
    "\n",
    "### Try it!\n",
    "Evaluate the numbers in the cells below and see that they are display in base 10.\n",
    "\n",
    "Remember: you can also insert new cells. Just click in a cell and then press the [+] button in the toolbar."
   ]
  },
  {
   "cell_type": "code",
   "execution_count": 26,
   "metadata": {},
   "outputs": [
    {
     "data": {
      "text/plain": [
       "102"
      ]
     },
     "execution_count": 26,
     "metadata": {},
     "output_type": "execute_result"
    }
   ],
   "source": [
    "0b1100110"
   ]
  },
  {
   "cell_type": "code",
   "execution_count": 27,
   "metadata": {},
   "outputs": [
    {
     "data": {
      "text/plain": [
       "521131"
      ]
     },
     "execution_count": 27,
     "metadata": {},
     "output_type": "execute_result"
    }
   ],
   "source": [
    "0x7f3ab"
   ]
  },
  {
   "cell_type": "code",
   "execution_count": 28,
   "metadata": {},
   "outputs": [
    {
     "data": {
      "text/plain": [
       "254"
      ]
     },
     "execution_count": 28,
     "metadata": {},
     "output_type": "execute_result"
    }
   ],
   "source": [
    "0b11111110"
   ]
  },
  {
   "cell_type": "markdown",
   "metadata": {},
   "source": [
    "### Artithmetic\n",
    "Try the following examples of doing arithmetic in other number bases."
   ]
  },
  {
   "cell_type": "code",
   "execution_count": 29,
   "metadata": {},
   "outputs": [
    {
     "data": {
      "text/plain": [
       "18682"
      ]
     },
     "execution_count": 29,
     "metadata": {},
     "output_type": "execute_result"
    }
   ],
   "source": [
    "0x4567 + 0b01110010011"
   ]
  },
  {
   "cell_type": "code",
   "execution_count": 30,
   "metadata": {},
   "outputs": [
    {
     "data": {
      "text/plain": [
       "8518464"
      ]
     },
     "execution_count": 30,
     "metadata": {},
     "output_type": "execute_result"
    }
   ],
   "source": [
    "123456 * 0x45"
   ]
  },
  {
   "cell_type": "markdown",
   "metadata": {},
   "source": [
    "# Converting To Other Bases\n",
    "Python can convert integers into other bases using built-in conversion functions. The results will be displayed as strings, with quotes around them, because Python only displays numbers in base 10. Any other base must be displayed in a form that preserves the special formatting of the other bases."
   ]
  },
  {
   "cell_type": "code",
   "execution_count": null,
   "metadata": {},
   "outputs": [],
   "source": [
    "hex(12345)"
   ]
  },
  {
   "cell_type": "code",
   "execution_count": null,
   "metadata": {},
   "outputs": [],
   "source": [
    "bin(651)"
   ]
  },
  {
   "cell_type": "code",
   "execution_count": null,
   "metadata": {},
   "outputs": [],
   "source": [
    "bin(0x6fe1)"
   ]
  },
  {
   "cell_type": "code",
   "execution_count": null,
   "metadata": {},
   "outputs": [],
   "source": [
    "hex(0b10101111)"
   ]
  },
  {
   "cell_type": "markdown",
   "metadata": {},
   "source": [
    "# Arbitrary Bases\n",
    "Our last examples of base conversion will demonstrate that Python can convert from any base between 2 and 36, including oddball bases like \"base 3\" and \"base 21\". The `int` function allows you to pass in a string containing the number along with what base it is.\n",
    "\n",
    "The `int` function can also be used simply to convert a string, such as from user input, into a number."
   ]
  },
  {
   "cell_type": "code",
   "execution_count": 37,
   "metadata": {},
   "outputs": [
    {
     "data": {
      "text/plain": [
       "149"
      ]
     },
     "execution_count": 37,
     "metadata": {},
     "output_type": "execute_result"
    }
   ],
   "source": [
    "int('012112', 3)"
   ]
  },
  {
   "cell_type": "code",
   "execution_count": 36,
   "metadata": {},
   "outputs": [
    {
     "data": {
      "text/plain": [
       "12855114"
      ]
     },
     "execution_count": 36,
     "metadata": {},
     "output_type": "execute_result"
    }
   ],
   "source": [
    "int('123ABC', 26)"
   ]
  },
  {
   "cell_type": "code",
   "execution_count": 35,
   "metadata": {},
   "outputs": [
    {
     "data": {
      "text/plain": [
       "28641"
      ]
     },
     "execution_count": 35,
     "metadata": {},
     "output_type": "execute_result"
    }
   ],
   "source": [
    "int('6fe1', 16)"
   ]
  },
  {
   "cell_type": "code",
   "execution_count": 34,
   "metadata": {},
   "outputs": [
    {
     "data": {
      "text/plain": [
       "123"
      ]
     },
     "execution_count": 34,
     "metadata": {},
     "output_type": "execute_result"
    }
   ],
   "source": [
    "int('123')"
   ]
  },
  {
   "cell_type": "markdown",
   "metadata": {},
   "source": [
    "# Strings\n",
    "String literals can be surrounded by either single-quotes or double-quotes. There is no difference between them. Just use whichever is more convenient. For example, `\"aardvark\"` and `'aardvark'` are the same strings.\n",
    "\n",
    "Python does not distinguish between strings and single characters. A character is just a string of length 1.\n",
    "\n",
    "Strings can be joined (concatenated) using the `+` operator, similar to Java.\n",
    "\n",
    "### Try it!\n",
    "\n",
    "Change the string concatenation below so there is a space between **SpongeBob** and **SquarePants**."
   ]
  },
  {
   "cell_type": "code",
   "execution_count": 23,
   "metadata": {},
   "outputs": [
    {
     "data": {
      "text/plain": [
       "'SpongeBob SquarePants'"
      ]
     },
     "execution_count": 23,
     "metadata": {},
     "output_type": "execute_result"
    }
   ],
   "source": [
    "'SpongeBob' + ' ' + 'SquarePants'"
   ]
  },
  {
   "cell_type": "markdown",
   "metadata": {},
   "source": [
    "# ASCII and Unicode values\n",
    "Python can easily convert characters to and from their corresponding ASCII and Unicode values. The **ord** function is used to convert a character to Unicode.\n",
    "\n",
    "Try the examples below by clicking in each cell and pressing Shift-Enter to execute them."
   ]
  },
  {
   "cell_type": "code",
   "execution_count": 40,
   "metadata": {},
   "outputs": [
    {
     "data": {
      "text/plain": [
       "65"
      ]
     },
     "execution_count": 40,
     "metadata": {},
     "output_type": "execute_result"
    }
   ],
   "source": [
    "# The Unicode value of \"A\" is 65. Run this cell to verify.\n",
    "ord(\"A\")"
   ]
  },
  {
   "cell_type": "code",
   "execution_count": 39,
   "metadata": {},
   "outputs": [
    {
     "data": {
      "text/plain": [
       "37"
      ]
     },
     "execution_count": 39,
     "metadata": {},
     "output_type": "execute_result"
    }
   ],
   "source": [
    "ord(\"%\")"
   ]
  },
  {
   "cell_type": "code",
   "execution_count": 38,
   "metadata": {},
   "outputs": [
    {
     "data": {
      "text/plain": [
       "128578"
      ]
     },
     "execution_count": 38,
     "metadata": {},
     "output_type": "execute_result"
    }
   ],
   "source": [
    "ord(\"🙂\")"
   ]
  },
  {
   "cell_type": "markdown",
   "metadata": {},
   "source": [
    "What is the Unicode value of the 🐍 (snake) character? (Get it? It's a Python!)\n",
    "\n",
    "You can copy-and-paste the character into the cell below, using the `ord` function to show the Unicode value."
   ]
  },
  {
   "cell_type": "code",
   "execution_count": 21,
   "metadata": {},
   "outputs": [
    {
     "data": {
      "text/plain": [
       "128013"
      ]
     },
     "execution_count": 21,
     "metadata": {},
     "output_type": "execute_result"
    }
   ],
   "source": [
    "ord(\"🐍\")"
   ]
  },
  {
   "cell_type": "markdown",
   "metadata": {},
   "source": [
    "# Byte Strings\n",
    "Internally, strings are just a sequence of characters. (Actually, they are an array of characters. We'll learn about arrays in the coming weeks.) As we've learned above, characters have a huge range of values from small (such as 65 for the character 'A') to large (128578 for the 🙂 emoji character). Therefore, strings are really sequences of these Unicode values whose sizes can vary from a single byte to multiple bytes.\n",
    "\n",
    "It is often useful to work with sequences of bytes, whose values can only fit into 8 bits and range from 0-255. The original ASCII character set has only 128 characters and  fits into 7 bits, with an extra bit unused.\n",
    "\n",
    "Python has a data type called a **byte string**; internally it's a sequence of byte values but it is displayed as a value that look like a string. But it is not a string. The table below summarizes them.\n",
    "\n",
    "| Data Type | Description | Examples |\n",
    "|----|----|----|\n",
    "| String | Sequence of Unicode characters | \"abc\" or 'xyz' |\n",
    "| Byte String | Sequence of bytes | b\"abc\" or b'xyz' |\n",
    "\n",
    "Notice that byte strings are prefixed with the `b` character. Byte strings cannot contain artitrary Unicode characters; they can only contain characters that each fit into a single byte.\n",
    "\n",
    "Byte strings are useful because they allow us, as programmers, to quickly define arrays of byte values but display them as things that look like strings. In this course there will be many opportunities to work with sequences of bytes. They are of a fixed size (8 bits only) and they encompass the ASCII character set which allows us to work with English text.\n",
    "\n",
    "# Base 32 and Base 64 Encoding\n",
    "The base 32 and base 64 encodings exist to convert artitrary sequences of bytes into a format that consists only of printable characters. When you attach an image or a PDF to an email, it must first be converted into a representation that an email message can accept. When the email standards were written in the 1980s, the authors did not forsee an age in which sending non-text would be a common usage. Therefore, emails can only contain printable ASCII characters. Any other data must be converted first.\n",
    "\n",
    "Python provides some functions for encoding and decoding base 32 and base 64. They are part of the `base64` library, which you can import into your notebook with the following statement. **Execute the cell below to import the library.**\n",
    "\n",
    "Then try the examples below of encoding and decoding base 32 and base 64."
   ]
  },
  {
   "cell_type": "code",
   "execution_count": null,
   "metadata": {},
   "outputs": [],
   "source": [
    "# Execute this cell to import the base64 encode/decode library\n",
    "from base64 import *"
   ]
  },
  {
   "cell_type": "code",
   "execution_count": 41,
   "metadata": {},
   "outputs": [
    {
     "data": {
      "text/plain": [
       "b'aGVsbG8='"
      ]
     },
     "execution_count": 41,
     "metadata": {},
     "output_type": "execute_result"
    }
   ],
   "source": [
    "b64encode(b'hello')"
   ]
  },
  {
   "cell_type": "code",
   "execution_count": 42,
   "metadata": {},
   "outputs": [
    {
     "data": {
      "text/plain": [
       "b'VGhlIFJpdmVyIFJ1bnMgVGhyb3VnaCBJdA=='"
      ]
     },
     "execution_count": 42,
     "metadata": {},
     "output_type": "execute_result"
    }
   ],
   "source": [
    "b64encode(b'The River Runs Through It')"
   ]
  },
  {
   "cell_type": "code",
   "execution_count": 43,
   "metadata": {},
   "outputs": [
    {
     "data": {
      "text/plain": [
       "b'May the Force be with you.'"
      ]
     },
     "execution_count": 43,
     "metadata": {},
     "output_type": "execute_result"
    }
   ],
   "source": [
    "b64decode(b'TWF5IHRoZSBGb3JjZSBiZSB3aXRoIHlvdS4=')"
   ]
  },
  {
   "cell_type": "code",
   "execution_count": 44,
   "metadata": {},
   "outputs": [
    {
     "data": {
      "text/plain": [
       "b'KNUWK4TSMEQEG33MNRSWOZI='"
      ]
     },
     "execution_count": 44,
     "metadata": {},
     "output_type": "execute_result"
    }
   ],
   "source": [
    "b32encode(b'Sierra College')"
   ]
  },
  {
   "cell_type": "code",
   "execution_count": 45,
   "metadata": {},
   "outputs": [
    {
     "data": {
      "text/plain": [
       "b'Remember, remember the 5th of November'"
      ]
     },
     "execution_count": 45,
     "metadata": {},
     "output_type": "execute_result"
    }
   ],
   "source": [
    "b32decode(b'KJSW2ZLNMJSXELBAOJSW2ZLNMJSXEIDUNBSSANLUNAQG6ZRAJZXXMZLNMJSXE===')"
   ]
  },
  {
   "cell_type": "markdown",
   "metadata": {},
   "source": [
    "### Your Turn!\n",
    "Decode the following strings:\n",
    "\n",
    "b'RG8gb3IgZG8gbm90OyB0aGVyZSBpcyBubyB0cnk='\n",
    "\n",
    "b'JRUWMZJANFZSA53IMF2CA2DBOBYGK3TTEB3WQZLOEB4W65JHOJSSAYTVON4SA3LBNNUW4ZZAN52GQZLSEBYGYYLOOMXA===='\n",
    "\n",
    "b'QWx3YXlzIHJlbWVtYmVyIHRoYXQgeW91IGFyZSBhYnNvbHV0ZWx5IHVuaXF1ZS4gSnVzdCBsaWtlIGV2ZXJ5b25lIGVsc2Uu'"
   ]
  },
  {
   "cell_type": "code",
   "execution_count": 19,
   "metadata": {},
   "outputs": [
    {
     "data": {
      "text/plain": [
       "b'Do or do not; there is no try'"
      ]
     },
     "execution_count": 19,
     "metadata": {},
     "output_type": "execute_result"
    }
   ],
   "source": [
    "from base64 import *\n",
    "b64decode(b'RG8gb3IgZG8gbm90OyB0aGVyZSBpcyBubyB0cnk=')"
   ]
  },
  {
   "cell_type": "code",
   "execution_count": 11,
   "metadata": {},
   "outputs": [
    {
     "data": {
      "text/plain": [
       "b'Always remember that you are absolutely unique. Just like everyone else.'"
      ]
     },
     "execution_count": 11,
     "metadata": {},
     "output_type": "execute_result"
    }
   ],
   "source": [
    "from base64 import *\n",
    "b64decode(b'QWx3YXlzIHJlbWVtYmVyIHRoYXQgeW91IGFyZSBhYnNvbHV0ZWx5IHVuaXF1ZS4gSnVzdCBsaWtlIGV2ZXJ5b25lIGVsc2Uu')"
   ]
  },
  {
   "cell_type": "code",
   "execution_count": 20,
   "metadata": {},
   "outputs": [
    {
     "data": {
      "text/plain": [
       "b'%\\x15\\x161\\x92@4VR\\x03\\x9d\\xc80]\\x82\\x03`\\xc18\\x16\\x06+t\\xd3\\x10\\x1d\\xd6A\\x92\\xce\\x10\\x1e\\x16\\xeb\\x92G8\\x94\\x92\\x01\\x84\\xd58\\xde\\x12\\x03r\\xc14\\xd5\\x16\\xe1\\x96@7\\x9d\\x86A\\x92\\xd2\\x10\\x16\\x06a\\x82\\xce8\\xc5\\xc0'"
      ]
     },
     "execution_count": 20,
     "metadata": {},
     "output_type": "execute_result"
    }
   ],
   "source": [
    "from base64 import *\n",
    "b64decode(b'JRUWMZJANFZSA53IMF2CA2DBOBYGK3TTEB3WQZLOEB4W65JHOJSSAYTVON4SA3LBNNUW4ZZAN52GQZLSEBYGYYLOOMXA====')"
   ]
  }
 ],
 "metadata": {
  "kernelspec": {
   "display_name": "Python 3 (ipykernel)",
   "language": "python",
   "name": "python3"
  },
  "language_info": {
   "codemirror_mode": {
    "name": "ipython",
    "version": 3
   },
   "file_extension": ".py",
   "mimetype": "text/x-python",
   "name": "python",
   "nbconvert_exporter": "python",
   "pygments_lexer": "ipython3",
   "version": "3.9.7"
  }
 },
 "nbformat": 4,
 "nbformat_minor": 4
}
